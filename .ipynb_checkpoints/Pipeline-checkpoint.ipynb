{
 "cells": [
  {
   "cell_type": "code",
   "execution_count": 1,
   "metadata": {},
   "outputs": [],
   "source": [
    "import matplotlib.pyplot as plt\n",
    "%matplotlib inline\n",
    "import cv2 \n",
    "import numpy as np\n",
    "import pickle\n",
    "from scipy.misc import imread\n",
    "import bird_eye\n",
    "import thresholding\n",
    "import curve_fitting\n",
    "import projection"
   ]
  },
  {
   "cell_type": "code",
   "execution_count": 2,
   "metadata": {},
   "outputs": [],
   "source": [
    "from moviepy.editor import VideoFileClip\n",
    "from IPython.display import HTML"
   ]
  },
  {
   "cell_type": "code",
   "execution_count": 3,
   "metadata": {},
   "outputs": [],
   "source": [
    "calibration_data = pickle.load(open(\"calibration_data.p\", \"rb\" ))\n",
    "\n",
    "matrix = calibration_data['camera_matrix']\n",
    "distortion_coef = calibration_data['distortion_coefficient']\n",
    "\n",
    "source_points = np.float32([(580, 460), (205, 720), (1110, 720), (703, 460)])\n",
    "destination_points = np.float32([(320, 0), (320, 720), (960, 720), (960, 0)])\n"
   ]
  },
  {
   "cell_type": "code",
   "execution_count": 4,
   "metadata": {},
   "outputs": [],
   "source": [
    "#GETTING THE PERSPECTIVE TRANSFORM#\n",
    "warp_matrix = cv2.getPerspectiveTransform(source_points,destination_points)"
   ]
  },
  {
   "cell_type": "code",
   "execution_count": 5,
   "metadata": {},
   "outputs": [],
   "source": [
    "def lane_detection(img):\n",
    "    cp=np.copy(img)\n",
    "    warped_image=bird_eye.birdeye(img,warp_matrix,matrix,distortion_coef)\n",
    "    ret,filtered_image=thresholding.binary_image(warped_image)\n",
    "    histogram,curve,left_fit,right_fit=curve_fitting.fit(filtered_image)\n",
    "    projected_image=projection.project(img,filtered_image,left_fit,right_fit)\n",
    "    return projected_image"
   ]
  },
  {
   "cell_type": "code",
   "execution_count": 9,
   "metadata": {},
   "outputs": [
    {
     "name": "stdout",
     "output_type": "stream",
     "text": [
      "Moviepy - Building video project_video_output.mp4.\n",
      "Moviepy - Writing video project_video_output.mp4\n",
      "\n"
     ]
    },
    {
     "name": "stderr",
     "output_type": "stream",
     "text": [
      "                                                                                                                       \r"
     ]
    },
    {
     "name": "stdout",
     "output_type": "stream",
     "text": [
      "Moviepy - Done !\n",
      "Moviepy - video ready project_video_output.mp4\n",
      "Wall time: 8min 3s\n"
     ]
    }
   ],
   "source": [
    "project_output = 'project_video_output.mp4'\n",
    "clip1 = VideoFileClip(\"videos/project_video.mp4\");\n",
    "white_clip = clip1.fl_image(lane_detection) \n",
    "%time white_clip.write_videofile(project_output, audio = False);"
   ]
  }
 ],
 "metadata": {
  "kernelspec": {
   "display_name": "Python 3",
   "language": "python",
   "name": "python3"
  },
  "language_info": {
   "codemirror_mode": {
    "name": "ipython",
    "version": 3
   },
   "file_extension": ".py",
   "mimetype": "text/x-python",
   "name": "python",
   "nbconvert_exporter": "python",
   "pygments_lexer": "ipython3",
   "version": "3.6.8"
  }
 },
 "nbformat": 4,
 "nbformat_minor": 2
}
